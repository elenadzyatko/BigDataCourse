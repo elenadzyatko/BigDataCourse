{
 "cells": [
  {
   "cell_type": "code",
   "execution_count": 1,
   "metadata": {},
   "outputs": [],
   "source": [
    "import re\n",
    "from math import log"
   ]
  },
  {
   "cell_type": "code",
   "execution_count": 2,
   "metadata": {},
   "outputs": [],
   "source": [
    "def bigram(x):\n",
    "    for i in range(len(x)-1):\n",
    "        yield x[i] + '_' + x[i+1]"
   ]
  },
  {
   "cell_type": "markdown",
   "metadata": {},
   "source": [
    "## Read"
   ]
  },
  {
   "cell_type": "code",
   "execution_count": 3,
   "metadata": {},
   "outputs": [],
   "source": [
    "# считываем датасет\n",
    "en_articles_part = sc.textFile(\"/data/wiki/en_articles_part\")"
   ]
  },
  {
   "cell_type": "code",
   "execution_count": 4,
   "metadata": {},
   "outputs": [],
   "source": [
    "# делаем из en_articles_part датасет \"ключ-значение\"\n",
    "splitted_articles = en_articles_part.map(lambda x: (x.split('\\t')[0], x.split('\\t')[1]))"
   ]
  },
  {
   "cell_type": "code",
   "execution_count": 5,
   "metadata": {},
   "outputs": [],
   "source": [
    "# считываем стоп-слова\n",
    "stop_words = sc.textFile(\"/data/wiki/stop_words_en-xpo6.txt\")"
   ]
  },
  {
   "cell_type": "code",
   "execution_count": 6,
   "metadata": {},
   "outputs": [],
   "source": [
    "stop_words = stop_words.collect()"
   ]
  },
  {
   "cell_type": "code",
   "execution_count": 7,
   "metadata": {},
   "outputs": [
    {
     "data": {
      "text/plain": [
       "[u'a', u'about', u'above', u'across', u'after']"
      ]
     },
     "execution_count": 7,
     "metadata": {},
     "output_type": "execute_result"
    }
   ],
   "source": [
    "stop_words[:5]"
   ]
  },
  {
   "cell_type": "markdown",
   "metadata": {},
   "source": [
    "## Задача #1: народные биграммы."
   ]
  },
  {
   "cell_type": "code",
   "execution_count": 46,
   "metadata": {},
   "outputs": [],
   "source": [
    "# оставляем в текстах статей только буквы\n",
    "cleaned_articles = splitted_articles.map(lambda x: re.sub('[^a-z0-9]', ' ', x[1].lower()))"
   ]
  },
  {
   "cell_type": "code",
   "execution_count": 47,
   "metadata": {},
   "outputs": [],
   "source": [
    "# делаем списки из слов (делим по пробелам)\n",
    "articles_to_list = cleaned_articles.map(lambda x: [word.strip() for word in x.split(' ')])\\\n",
    "                                   .map(lambda x: [word for word in x if word])"
   ]
  },
  {
   "cell_type": "code",
   "execution_count": 48,
   "metadata": {},
   "outputs": [],
   "source": [
    "# делаем биграммы\n",
    "bigrams = articles_to_list.map(lambda x: list(bigram(x)))"
   ]
  },
  {
   "cell_type": "code",
   "execution_count": 50,
   "metadata": {},
   "outputs": [],
   "source": [
    "# берем биграммы, начинающиеся со слова narodnaya\n",
    "filtered_bigrams = bigrams.flatMap(lambda x: [word for word in x if word.startswith('narodnaya')])"
   ]
  },
  {
   "cell_type": "code",
   "execution_count": 51,
   "metadata": {},
   "outputs": [
    {
     "data": {
      "text/plain": [
       "[u'narodnaya_volya',\n",
       " u'narodnaya_volya',\n",
       " u'narodnaya_volya',\n",
       " u'narodnaya_volya',\n",
       " u'narodnaya_volya']"
      ]
     },
     "execution_count": 51,
     "metadata": {},
     "output_type": "execute_result"
    }
   ],
   "source": [
    "filtered_bigrams.take(5)"
   ]
  },
  {
   "cell_type": "code",
   "execution_count": 52,
   "metadata": {},
   "outputs": [],
   "source": [
    "# подсчитываем число вхождений биграмм \n",
    "grouped_bigrams = filtered_bigrams.map(lambda x: (x, 1)).reduceByKey(lambda x, y: x + y).collect()"
   ]
  },
  {
   "cell_type": "code",
   "execution_count": 53,
   "metadata": {},
   "outputs": [
    {
     "data": {
      "text/plain": [
       "[(u'narodnaya_gazeta', 1), (u'narodnaya_volya', 9)]"
      ]
     },
     "execution_count": 53,
     "metadata": {},
     "output_type": "execute_result"
    }
   ],
   "source": [
    "grouped_bigrams"
   ]
  },
  {
   "cell_type": "code",
   "execution_count": 54,
   "metadata": {},
   "outputs": [
    {
     "name": "stdout",
     "output_type": "stream",
     "text": [
      "narodnaya_gazeta \t1\n",
      "narodnaya_volya \t9\n"
     ]
    }
   ],
   "source": [
    "# вывод в лексикографическом порядке\n",
    "for key, value in sorted(grouped_bigrams, key=lambda x: x[0]):\n",
    "    print key, '\\t', value "
   ]
  },
  {
   "cell_type": "markdown",
   "metadata": {},
   "source": [
    "# Задача #2: коллокации"
   ]
  },
  {
   "cell_type": "markdown",
   "metadata": {},
   "source": [
    "### 2.1 Подготовка RDD"
   ]
  },
  {
   "cell_type": "code",
   "execution_count": 55,
   "metadata": {},
   "outputs": [],
   "source": [
    "# бродкастим словарь со стоп-словами\n",
    "br_stop_words = sc.broadcast(stop_words)"
   ]
  },
  {
   "cell_type": "code",
   "execution_count": 56,
   "metadata": {},
   "outputs": [],
   "source": [
    "# удаляем стоп-слова из списков слов, полученных из каждой статьи\n",
    "filtered_lists = articles_to_list.map(lambda x: [word for word in x if word not in stop_words])"
   ]
  },
  {
   "cell_type": "code",
   "execution_count": 57,
   "metadata": {},
   "outputs": [],
   "source": [
    "# получаем биграммы из отфильтрованного списка слов\n",
    "upd_bigrams = filtered_lists.flatMap(lambda x: list(bigram(x)))"
   ]
  },
  {
   "cell_type": "code",
   "execution_count": 58,
   "metadata": {},
   "outputs": [],
   "source": [
    "# подсчитываем число вхождений биграмм \n",
    "grouped_bigrams = upd_bigrams.map(lambda x: (x, 1))\\\n",
    "                             .reduceByKey(lambda x, y: x + y)"
   ]
  },
  {
   "cell_type": "code",
   "execution_count": 59,
   "metadata": {},
   "outputs": [],
   "source": [
    "# берем только те биграммы, которые встречались более 500 раз \n",
    "frequent_bigrams = grouped_bigrams.filter(lambda x: x[1] >= 500)"
   ]
  },
  {
   "cell_type": "code",
   "execution_count": 60,
   "metadata": {},
   "outputs": [
    {
     "data": {
      "text/plain": [
       "[(u'best_known', 507),\n",
       " (u'soviet_union', 905),\n",
       " (u'catholic_church', 596),\n",
       " (u'1_1', 1180),\n",
       " (u'science_fiction', 509)]"
      ]
     },
     "execution_count": 60,
     "metadata": {},
     "output_type": "execute_result"
    }
   ],
   "source": [
    "frequent_bigrams.take(5)"
   ]
  },
  {
   "cell_type": "markdown",
   "metadata": {},
   "source": [
    "### 2.2. NPMI"
   ]
  },
  {
   "cell_type": "markdown",
   "metadata": {},
   "source": [
    "Общее кол-во слов в тексте"
   ]
  },
  {
   "cell_type": "code",
   "execution_count": 61,
   "metadata": {},
   "outputs": [],
   "source": [
    "flat_words = filtered_lists.flatMap(lambda x: x)"
   ]
  },
  {
   "cell_type": "code",
   "execution_count": 62,
   "metadata": {},
   "outputs": [
    {
     "data": {
      "text/plain": [
       "[u'anarchism', u'anarchism', u'defined', u'political', u'philosophy']"
      ]
     },
     "execution_count": 62,
     "metadata": {},
     "output_type": "execute_result"
    }
   ],
   "source": [
    "flat_words.take(5)"
   ]
  },
  {
   "cell_type": "code",
   "execution_count": 63,
   "metadata": {},
   "outputs": [],
   "source": [
    "total_number_of_words = flat_words.count()"
   ]
  },
  {
   "cell_type": "code",
   "execution_count": 64,
   "metadata": {},
   "outputs": [
    {
     "data": {
      "text/plain": [
       "7258563"
      ]
     },
     "execution_count": 64,
     "metadata": {},
     "output_type": "execute_result"
    }
   ],
   "source": [
    "total_number_of_words"
   ]
  },
  {
   "cell_type": "code",
   "execution_count": 65,
   "metadata": {},
   "outputs": [],
   "source": [
    "total_number_of_words = sc.broadcast(total_number_of_words)"
   ]
  },
  {
   "cell_type": "code",
   "execution_count": 66,
   "metadata": {},
   "outputs": [],
   "source": [
    "word_count = flat_words.map(lambda x: (x, 1)).reduceByKey(lambda x, y: x + y)"
   ]
  },
  {
   "cell_type": "code",
   "execution_count": 67,
   "metadata": {},
   "outputs": [
    {
     "data": {
      "text/plain": [
       "[(u'fawn', 7),\n",
       " (u'biennials', 10),\n",
       " (u'vexillifera', 1),\n",
       " (u'gai', 3),\n",
       " (u'tripolitan', 2)]"
      ]
     },
     "execution_count": 67,
     "metadata": {},
     "output_type": "execute_result"
    }
   ],
   "source": [
    "word_count.take(5)"
   ]
  },
  {
   "cell_type": "code",
   "execution_count": 68,
   "metadata": {},
   "outputs": [],
   "source": [
    "# вероятность увидеть слово “a” в датасете\n",
    "p_a = word_count.map(lambda x: (x[0], float(x[1])/total_number_of_words.value)).cache()"
   ]
  },
  {
   "cell_type": "code",
   "execution_count": 69,
   "metadata": {},
   "outputs": [
    {
     "data": {
      "text/plain": [
       "[(u'biennials', 1.377683158498452e-06),\n",
       " (u'tripolitan', 2.755366316996904e-07),\n",
       " (u'vexillifera', 1.377683158498452e-07),\n",
       " (u'refreshable', 1.2399148426486068e-06),\n",
       " (u'nunnery', 6.88841579249226e-07)]"
      ]
     },
     "execution_count": 69,
     "metadata": {},
     "output_type": "execute_result"
    }
   ],
   "source": [
    "p_a.take(5)"
   ]
  },
  {
   "cell_type": "markdown",
   "metadata": {},
   "source": [
    "Общее кол-во пар слов в тексте"
   ]
  },
  {
   "cell_type": "code",
   "execution_count": 70,
   "metadata": {},
   "outputs": [],
   "source": [
    "total_number_of_pairs = upd_bigrams.count()"
   ]
  },
  {
   "cell_type": "code",
   "execution_count": 71,
   "metadata": {},
   "outputs": [
    {
     "data": {
      "text/plain": [
       "7254463"
      ]
     },
     "execution_count": 71,
     "metadata": {},
     "output_type": "execute_result"
    }
   ],
   "source": [
    "total_number_of_pairs"
   ]
  },
  {
   "cell_type": "code",
   "execution_count": 72,
   "metadata": {},
   "outputs": [],
   "source": [
    "total_number_of_pairs = sc.broadcast(total_number_of_pairs)"
   ]
  },
  {
   "cell_type": "code",
   "execution_count": 77,
   "metadata": {},
   "outputs": [],
   "source": [
    "# вероятность увидеть пару слов “a” и “b”, идущих подряд\n",
    "p_ab = frequent_bigrams.map(lambda x: (x[0], float(x[1])/total_number_of_pairs.value)).cache()"
   ]
  },
  {
   "cell_type": "code",
   "execution_count": 78,
   "metadata": {},
   "outputs": [
    {
     "data": {
      "text/plain": [
       "[(u'best_known', 6.988801238630619e-05),\n",
       " (u'soviet_union', 0.00012475079134044795),\n",
       " (u'catholic_church', 8.215632225293589e-05),\n",
       " (u'1_1', 0.0001626584903665509),\n",
       " (u'science_fiction', 7.016370474285968e-05)]"
      ]
     },
     "execution_count": 78,
     "metadata": {},
     "output_type": "execute_result"
    }
   ],
   "source": [
    "p_ab.take(5)"
   ]
  },
  {
   "cell_type": "code",
   "execution_count": 79,
   "metadata": {},
   "outputs": [
    {
     "data": {
      "text/plain": [
       "74"
      ]
     },
     "execution_count": 79,
     "metadata": {},
     "output_type": "execute_result"
    }
   ],
   "source": [
    "p_ab.count()"
   ]
  },
  {
   "cell_type": "markdown",
   "metadata": {},
   "source": [
    "Расчет по формуле:\n",
    "$$ PMI(a,b) = ln( \\dfrac{P(ab)}{P(a) * P(b)}) $$\n",
    "\n",
    "$$ NPMI(a,b) = \\dfrac{PMI(a,b)}{-ln(P(ab))} $$"
   ]
  },
  {
   "cell_type": "code",
   "execution_count": 80,
   "metadata": {},
   "outputs": [],
   "source": [
    "part_1 = p_ab.map(lambda x: (x[0].split('_')[0], x))\\\n",
    "             .join(p_a)"
   ]
  },
  {
   "cell_type": "code",
   "execution_count": 81,
   "metadata": {},
   "outputs": [
    {
     "data": {
      "text/plain": [
       "[(u'references',\n",
       "  ((u'references_reading', 7.140432034735031e-05), 0.000561681423719819)),\n",
       " (u'references',\n",
       "  ((u'references_external', 0.00017216987666764582), 0.000561681423719819)),\n",
       " (u'u', ((u'u_s', 0.0006227890334543026), 0.0008949429797605945)),\n",
       " (u'soviet',\n",
       "  ((u'soviet_union', 0.00012475079134044795), 0.00034841607078425855)),\n",
       " (u'e', ((u'e_g', 0.0002716948173834507), 0.0011101370891180528))]"
      ]
     },
     "execution_count": 81,
     "metadata": {},
     "output_type": "execute_result"
    }
   ],
   "source": [
    "part_1.take(5)"
   ]
  },
  {
   "cell_type": "code",
   "execution_count": 82,
   "metadata": {},
   "outputs": [],
   "source": [
    "part_2 = part_1.map(lambda x: (x[1][0][0].split('_')[1], x[1]))\\\n",
    "             .join(p_a)"
   ]
  },
  {
   "cell_type": "code",
   "execution_count": 83,
   "metadata": {},
   "outputs": [
    {
     "data": {
      "text/plain": [
       "[(u'songwriter',\n",
       "  (((u'singer_songwriter', 0.0001564554123440977), 0.00037831179532367496),\n",
       "   0.00018901812934598764)),\n",
       " (u'singer',\n",
       "  (((u'american_singer', 0.00012516432987527814), 0.0025011837742539397),\n",
       "   0.00037831179532367496)),\n",
       " (u'union',\n",
       "  (((u'soviet_union', 0.00012475079134044795), 0.00034841607078425855),\n",
       "   0.0005062985607481811)),\n",
       " (u'zealand',\n",
       "  (((u'new_zealand', 0.00012006402127903884), 0.0026268284783089986),\n",
       "   0.000123715947633161)),\n",
       " (u'africa',\n",
       "  (((u'south_africa', 8.574032288813107e-05), 0.0008939786015496456),\n",
       "   0.0002873847068627771))]"
      ]
     },
     "execution_count": 83,
     "metadata": {},
     "output_type": "execute_result"
    }
   ],
   "source": [
    "part_2.take(5)"
   ]
  },
  {
   "cell_type": "code",
   "execution_count": 84,
   "metadata": {},
   "outputs": [],
   "source": [
    "# x[1][0][0][0] - bigramm\n",
    "# x[1][0][0][1] - P(ab)\n",
    "# x[1][0][1] - P(a)\n",
    "# x[1][1] - P(b)\n",
    "\n",
    "part_3 = part_2.map(lambda x: (x[1][0][0][0], log(x[1][0][0][1]/(x[1][0][1]*x[1][1]))/(-log(x[1][0][0][1]))))\\\n",
    "               .collect()"
   ]
  },
  {
   "cell_type": "code",
   "execution_count": 85,
   "metadata": {},
   "outputs": [
    {
     "data": {
      "text/plain": [
       "[(u'singer_songwriter', 0.8776616015819709),\n",
       " (u'american_singer', 0.5436193557102699),\n",
       " (u'soviet_union', 0.7299103610286892),\n",
       " (u'new_zealand', 0.6548905578791357),\n",
       " (u'south_africa', 0.6204841894171089)]"
      ]
     },
     "execution_count": 85,
     "metadata": {},
     "output_type": "execute_result"
    }
   ],
   "source": [
    "part_3[:5]"
   ]
  },
  {
   "cell_type": "code",
   "execution_count": 86,
   "metadata": {},
   "outputs": [
    {
     "name": "stdout",
     "output_type": "stream",
     "text": [
      "los_angeles \t0.974\n",
      "external_links \t0.949\n",
      "united_states \t0.884\n",
      "prime_minister \t0.882\n",
      "singer_songwriter \t0.878\n",
      "san_francisco \t0.855\n",
      "isbn_978 \t0.845\n",
      "new_york \t0.792\n",
      "supreme_court \t0.776\n",
      "19th_century \t0.767\n",
      "20th_century \t0.76\n",
      "references_external \t0.734\n",
      "soviet_union \t0.73\n",
      "science_fiction \t0.726\n",
      "isbn_0 \t0.707\n",
      "air_force \t0.699\n",
      "united_kingdom \t0.689\n",
      "e_g \t0.689\n",
      "university_press \t0.686\n",
      "baseball_player \t0.682\n",
      "roman_catholic \t0.68\n",
      "18th_century \t0.68\n",
      "don_t \t0.674\n",
      "references_reading \t0.669\n",
      "notes_references \t0.663\n",
      "new_zealand \t0.655\n",
      "978_0 \t0.652\n",
      "award_best \t0.648\n",
      "north_america \t0.641\n",
      "civil_war \t0.639\n",
      "catholic_church \t0.625\n",
      "south_africa \t0.62\n",
      "took_place \t0.613\n",
      "war_ii \t0.613\n",
      "world_war \t0.61\n",
      "united_nations \t0.609\n",
      "roman_empire \t0.607\n",
      "x_y \t0.606\n",
      "u_s \t0.561\n"
     ]
    }
   ],
   "source": [
    "TOP = 39\n",
    "\n",
    "for key, value in sorted(part_3, key=lambda x: x[1], reverse=True)[:TOP]:\n",
    "    print key, '\\t', round(value, 3)"
   ]
  },
  {
   "cell_type": "code",
   "execution_count": null,
   "metadata": {},
   "outputs": [],
   "source": []
  },
  {
   "cell_type": "code",
   "execution_count": null,
   "metadata": {},
   "outputs": [],
   "source": []
  }
 ],
 "metadata": {
  "kernelspec": {
   "display_name": "Python 2",
   "language": "python",
   "name": "python2"
  },
  "language_info": {
   "codemirror_mode": {
    "name": "ipython",
    "version": 2
   },
   "file_extension": ".py",
   "mimetype": "text/x-python",
   "name": "python",
   "nbconvert_exporter": "python",
   "pygments_lexer": "ipython2",
   "version": "2.7.6"
  }
 },
 "nbformat": 4,
 "nbformat_minor": 2
}
